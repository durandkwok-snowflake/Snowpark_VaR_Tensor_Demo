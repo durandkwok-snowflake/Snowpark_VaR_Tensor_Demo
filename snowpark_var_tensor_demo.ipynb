{
 "metadata": {
  "kernelspec": {
   "display_name": "Streamlit Notebook",
   "name": "streamlit"
  }
 },
 "nbformat_minor": 5,
 "nbformat": 4,
 "cells": [
  {
   "cell_type": "markdown",
   "id": "d7bb3f90-f48f-414c-ac65-38f761028532",
   "metadata": {
    "name": "Introduction",
    "collapsed": false
   },
   "source": "Snowpark allows you to write Python, Scala, or Java code to interact with Snowflake data and perform data processing inside the Snowflake database. This enables you to run computations and data transformations closer to the data, reducing the need for moving data between different systems.\n\nIn this introduction, we'll cover:\n1. **What is VaR?**\n2. **Why Snowpark for VaR?**\n3. **Key steps for implementing VaR using Snowpark**\n\n\n---\n\n### 1. What is Value at Risk (VaR)?\n**Value at Risk (VaR)** is a statistical measure used to estimate the **maximum potential loss** of a portfolio over a defined period for a given confidence interval. It's a widely used risk metric in finance. For example, a 95% 1-day VaR of $1 million means that there’s a 95% chance that the portfolio will not lose more than $1 million in a day.\n\n\nThere are various methods to calculate VaR:\n- **Historical VaR**: Uses historical data to estimate potential losses.\n- **Parametric VaR**: Assumes the returns follow a normal distribution.\n- **Monte Carlo VaR**: Simulates possible outcomes based on random sampling from the distribution of returns.\n\n### 2. Why Snowpark for VaR?\nSnowpark is useful for VaR because it allows you to:\n- Run your risk models directly on **Snowflake** where your data resides, avoiding data movement.\n- Use **Python** to perform complex operations, such as Monte Carlo simulations and VaR calculations.\n- **Scale computations** seamlessly because Snowpark leverages Snowflake’s distributed architecture.\n\nWith Snowpark, you can run data transformations, simulations, and statistical calculations using familiar Python libraries (e.g., `pandas`, `numpy`, `scipy`,`Tensorflow`) without having to move data out of Snowflake.\n\n### 3. Key Steps for Implementing VaR using Snowpark\n\nHere’s an overview of the steps to calculate VaR in Snowpark:\n\n1. **Connect to Snowflake using Snowpark**:\n   - You create a Snowpark **Session** that connects to your Snowflake account.\n\n2. **Fetch Historical Stock Data**:\n   - Pull historical stock data into Snowflake using **Snowflake tables** or external sources like **Yahoo Finance** using `yfinance`.\n\n3. **Calculate Daily Returns**:\n   - Compute the daily returns based on historical stock prices.\n\n4. **Run Monte Carlo Simulation** (if using Monte Carlo VaR):\n   - Simulate stock returns by generating random numbers based on the historical mean and volatility of the stock.\n\n5. **Calculate VaR**:\n   - Use Snowflake functions (e.g., **approx_percentile()**) to calculate the VaR from the simulated or historical returns.\n\n\n### Advantages of Using Snowpark for VaR:\n- **No data movement**: You don’t need to move data from Snowflake to another environment; everything runs inside Snowflake’s platform.\n- **Scalable**: Snowflake’s architecture scales with your computations, allowing you to run large simulations or calculate VaR for large portfolios.\n- **Python in SQL environment**: Snowpark allows you to leverage Python inside Snowflake, combining the flexibility of Python with Snowflake’s power.\n\n### Conclusion:\nSnowpark offers a seamless way to calculate VaR directly within Snowflake, leveraging Python and Snowflake’s scalable infrastructure. Whether you’re working with historical data or running Monte Carlo simulations, Snowpark can help you efficiently compute risk metrics like VaR without leaving the Snowflake environment.\n"
  },
  {
   "cell_type": "code",
   "id": "b4d15f34-b631-485f-a1a7-c16140ef030b",
   "metadata": {
    "language": "python",
    "name": "cell4",
    "collapsed": false
   },
   "outputs": [],
   "source": "!pip install yfinance",
   "execution_count": null
  },
  {
   "cell_type": "code",
   "id": "02607a14-f038-4895-9301-d541905b416d",
   "metadata": {
    "language": "python",
    "name": "cell1",
    "collapsed": false
   },
   "outputs": [],
   "source": "!pip install tensorflow",
   "execution_count": null
  },
  {
   "cell_type": "code",
   "id": "bde52a49-a27e-42bf-b657-b47f0fcc23b7",
   "metadata": {
    "language": "python",
    "name": "cell20",
    "collapsed": false
   },
   "outputs": [],
   "source": "import tensorflow as tf\nimport pandas as pd\nimport numpy as np\nimport yfinance as yf\nfrom snowflake.snowpark import Session\n\nfrom snowflake.snowpark.context import get_active_session\nfrom snowflake.snowpark.functions import col, call_builtin",
   "execution_count": null
  },
  {
   "cell_type": "code",
   "id": "28c53b28-3fed-460c-84d9-29332d662345",
   "metadata": {
    "language": "python",
    "name": "cell21",
    "collapsed": false
   },
   "outputs": [],
   "source": "# Step 1: Create Snowflake session (modify with your Snowflake credentials)\nsession = get_active_session()",
   "execution_count": null
  },
  {
   "cell_type": "code",
   "id": "637d576b-6d14-49d6-b6ed-fe062fa1b78f",
   "metadata": {
    "language": "python",
    "name": "cell22",
    "collapsed": false
   },
   "outputs": [],
   "source": "# Step 2: Fetch AAPL stock data using yfinance\ndef fetch_stock_data(ticker='AAPL', period='5y'):\n    stock_data = yf.download(ticker, period=period)\n    return stock_data",
   "execution_count": null
  },
  {
   "cell_type": "code",
   "id": "4ab782a9-5fa9-4130-8d30-960a1cca7b57",
   "metadata": {
    "language": "python",
    "name": "cell23",
    "collapsed": false
   },
   "outputs": [],
   "source": "# Step 3: Monte Carlo simulation using TensorFlow (Geometric Brownian Motion)\ndef monte_carlo_simulation_tf(S0, mu, sigma, T, steps, n_simulations):\n    dt = T / steps  # Time step size\n    S = np.zeros((n_simulations, steps + 1))\n    S[:, 0] = S0  # Initial stock price\n\n    for t in range(1, steps + 1):\n        # Generate random samples from normal distribution using TensorFlow\n        Z = tf.random.normal(shape=[n_simulations], mean=0, stddev=1, dtype=tf.float64)\n        # Geometric Brownian Motion\n        S[:, t] = S[:, t-1] * np.exp((mu - 0.5 * sigma**2) * dt + sigma * np.sqrt(dt) * Z)\n    \n    return S\n",
   "execution_count": null
  },
  {
   "cell_type": "code",
   "id": "0fa48afa-4986-4da9-a7f3-6f45fdb22e72",
   "metadata": {
    "language": "python",
    "name": "cell24",
    "collapsed": false
   },
   "outputs": [],
   "source": "# Step 4: VaR Calculation using Monte Carlo Simulations\ndef calculate_var_tf(S0, mu, sigma, T, steps, n_simulations, confidence_level):\n    # Run Monte Carlo simulations using TensorFlow\n    S = monte_carlo_simulation_tf(S0, mu, sigma, T, steps, n_simulations)\n    \n    # Calculate returns from simulated final stock prices\n    returns = (S[:, -1] - S0) / S0\n\n    # Calculate the VaR at the given confidence level\n    VaR = np.percentile(returns, (1 - confidence_level) * 100)\n    return VaR\n",
   "execution_count": null
  },
  {
   "cell_type": "code",
   "id": "2b661e47-40db-47f4-9d94-1c2f93cc12da",
   "metadata": {
    "language": "python",
    "name": "cell25",
    "collapsed": false
   },
   "outputs": [],
   "source": "# Step 5: Main function to fetch data, run VaR, and save to Snowflake\ndef run_var_calculation():\n\n    # Fetch AAPL data\n    stock_data = fetch_stock_data('AAPL', period='5y')\n\n    # Calculate daily returns\n    stock_data['returns'] = stock_data['Adj Close'].pct_change()\n\n    # Compute mean and standard deviation of returns\n    mu = stock_data['returns'].mean()  # Expected return\n    sigma = stock_data['returns'].std()  # Volatility\n\n    # Set up parameters for Monte Carlo Simulation\n    S0 = stock_data['Adj Close'].iloc[-1]  # Latest stock price\n    T = 1  # Time horizon (1 day)\n    steps = 252  # Number of trading days in a year\n    n_simulations = 10000  # Number of simulations\n    confidence_level = 0.95  # 95% confidence level\n\n    # Calculate VaR using TensorFlow-based Monte Carlo simulation\n    VaR = calculate_var_tf(S0, mu, sigma, T, steps, n_simulations, confidence_level)\n\n    # Print the VaR result\n    print(f\"Value at Risk (VaR) at {confidence_level*100}% confidence level for AAPL: {VaR * 100:.2f}%\")\n\n    # Optional: Save the stock data and VaR result into Snowflake using Snowpark\n    stock_data['VaR'] = VaR\n    snowpark_df = session.create_dataframe(stock_data.reset_index())\n    snowpark_df.write.mode(\"overwrite\").save_as_table(\"AAPL_VAR_RESULTS\")\n\n    return VaR",
   "execution_count": null
  },
  {
   "cell_type": "code",
   "id": "48fa4615-83db-4e5d-86ae-c71801f488c4",
   "metadata": {
    "language": "python",
    "name": "cell19",
    "collapsed": false
   },
   "outputs": [],
   "source": "\n\n# Run the VaR calculation\nrun_var_calculation()\n",
   "execution_count": null
  },
  {
   "cell_type": "code",
   "id": "41b68df1-3a29-44e4-aff9-f9f57a5a8b69",
   "metadata": {
    "language": "python",
    "name": "cell26",
    "collapsed": false
   },
   "outputs": [],
   "source": "# Step 8: Close Snowpark session\nsession.close()",
   "execution_count": null
  },
  {
   "cell_type": "markdown",
   "id": "fd8389b8-764d-4fcb-a312-cd7985ec7bd2",
   "metadata": {
    "name": "Summary",
    "collapsed": false
   },
   "source": "The VaR score interpretation:\n\nFor example, if your VaR scroe is -0.02978\n\nThe Value at Risk (VaR) score of -0.02978 means there's a 2.98% potential loss on your portfolio (or stock, e.g., AAPL) over the next day, with a 95% confidence level. \n\nHere's a breakdown of what this means and how to interpret whether it's a \"good\" VaR score:\n\n\n### What This VaR Means:\n- **Interpretation**: There’s a **95% probability** that the portfolio’s daily loss will **not exceed 2.98%** of its value. Conversely, there's a **5% chance** that the loss **will exceed 2.98%** in one trading day.\n  \n  For example, if you hold $100,000 worth of AAPL stock, you can expect with 95% confidence that the maximum potential loss in a single day is **$2,928** or less.\n\n### Is This a \"Good\" VaR Score?\nWhether this is a good VaR depends on several factors:\n\n1. **Risk Tolerance**:\n   - If you're a conservative investor with a low risk tolerance, a **2.98% daily loss** might seem high, indicating that AAPL carries a reasonable degree of daily risk.\n   - For aggressive investors, especially those in high-volatility markets (e.g., tech stocks), this level of risk might be acceptable.\n\n2. **Market Conditions**:\n   - **Historical context** is key. During periods of high market volatility (e.g., market crashes, economic downturns), higher VaR scores are expected. Conversely, in stable markets, you'd expect lower VaR scores.\n   - Compare your VaR with the **current market volatility** (e.g., using the VIX index). If the overall market is volatile, your VaR is likely higher than usual.\n\n3. **Comparing with Other Assets**:\n   - It’s important to benchmark the VaR against other assets in your portfolio or similar stocks. AAPL tends to be a more stable, large-cap stock. If you're holding stocks in riskier sectors (e.g., biotech, cryptocurrencies), their VaR could be much higher.\n   \n   Compare this VaR to other stocks you own or to an index like the S&P 500. If AAPL has a **lower VaR** than your other holdings, it might be a \"safer\" part of your portfolio.\n\n4. **Investment Horizon**:\n   - The VaR you calculated is for a **1-day time horizon**. If your investment horizon is longer (e.g., 1 month, 1 year), consider calculating VaR over those periods. A 1-day VaR is primarily useful for traders or those managing daily risk exposure.\n\n5. **Portfolio Size and Diversification**:\n   - If AAPL is a part of a **diversified portfolio**, the portfolio VaR may be lower than the VaR for individual assets. Diversification generally reduces risk because losses in one stock may be offset by gains in another.\n\n### Conclusion:\n- **2.98% daily VaR** is not unusually high for an individual stock, especially for a technology stock like AAPL.\n- Whether it's \"good\" or not depends on your **risk appetite** and your **investment goals**.\n  - For a conservative portfolio, you might aim for a lower VaR, indicating less risk of daily loss.\n  - For a more aggressive portfolio, this VaR might seem relatively modest.\n  \nIf you’re concerned about the risk, you can consider strategies like hedging with options, reducing exposure to the stock, or further diversifying your portfolio.\n\nWould you like to explore strategies for managing risk, or dive deeper into another analysis?"
  }
 ]
}